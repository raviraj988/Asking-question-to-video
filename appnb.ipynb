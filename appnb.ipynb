{
 "cells": [
  {
   "cell_type": "code",
   "execution_count": 3,
   "id": "6344dc11-1f58-4e21-8b87-716ae00be368",
   "metadata": {},
   "outputs": [],
   "source": [
    "import galario as gr"
   ]
  },
  {
   "cell_type": "code",
   "execution_count": 6,
   "id": "a69f6c37-15d1-411a-ad62-98c49280a84b",
   "metadata": {},
   "outputs": [],
   "source": [
    "import gradio as gr\n",
    "from youtube_transcript_api import YouTubeTranscriptApi\n",
    "from transformers import AutoTokenizer\n",
    "from transformers import pipeline\n",
    "from transformers import AutoModelForQuestionAnswering\n",
    "import pandas as pd\n",
    "from sentence_transformers import SentenceTransformer, util\n",
    "import torch "
   ]
  },
  {
   "cell_type": "code",
   "execution_count": 7,
   "id": "b681736d-cb96-4dac-be83-6a71208e34ca",
   "metadata": {},
   "outputs": [
    {
     "data": {
      "application/vnd.jupyter.widget-view+json": {
       "model_id": "f92a32ace13a4b6b84e3e704b5cc6871",
       "version_major": 2,
       "version_minor": 0
      },
      "text/plain": [
       "Downloading:   0%|          | 0.00/107 [00:00<?, ?B/s]"
      ]
     },
     "metadata": {},
     "output_type": "display_data"
    },
    {
     "data": {
      "application/vnd.jupyter.widget-view+json": {
       "model_id": "9e573c5cd1d0424eabfe8d0447740aab",
       "version_major": 2,
       "version_minor": 0
      },
      "text/plain": [
       "Downloading:   0%|          | 0.00/477 [00:00<?, ?B/s]"
      ]
     },
     "metadata": {},
     "output_type": "display_data"
    },
    {
     "data": {
      "application/vnd.jupyter.widget-view+json": {
       "model_id": "78682c06fa6740e6b1a98cf1587523d4",
       "version_major": 2,
       "version_minor": 0
      },
      "text/plain": [
       "Downloading:   0%|          | 0.00/232k [00:00<?, ?B/s]"
      ]
     },
     "metadata": {},
     "output_type": "display_data"
    },
    {
     "data": {
      "application/vnd.jupyter.widget-view+json": {
       "model_id": "c32b9991253f423fa9f4bb0bb541165f",
       "version_major": 2,
       "version_minor": 0
      },
      "text/plain": [
       "Downloading:   0%|          | 0.00/112 [00:00<?, ?B/s]"
      ]
     },
     "metadata": {},
     "output_type": "display_data"
    },
    {
     "data": {
      "application/vnd.jupyter.widget-view+json": {
       "model_id": "075c98fc951d4da6a282b1eb4343e60d",
       "version_major": 2,
       "version_minor": 0
      },
      "text/plain": [
       "Downloading:   0%|          | 0.00/133M [00:00<?, ?B/s]"
      ]
     },
     "metadata": {},
     "output_type": "display_data"
    },
    {
     "data": {
      "application/vnd.jupyter.widget-view+json": {
       "model_id": "eb2aacf81fab4d008fffec4777e8a138",
       "version_major": 2,
       "version_minor": 0
      },
      "text/plain": [
       "Downloading:   0%|          | 0.00/1.18k [00:00<?, ?B/s]"
      ]
     },
     "metadata": {},
     "output_type": "display_data"
    },
    {
     "data": {
      "application/vnd.jupyter.widget-view+json": {
       "model_id": "330eeabcdf7541e9a129340996fccb0f",
       "version_major": 2,
       "version_minor": 0
      },
      "text/plain": [
       "Downloading:   0%|          | 0.00/190 [00:00<?, ?B/s]"
      ]
     },
     "metadata": {},
     "output_type": "display_data"
    },
    {
     "data": {
      "application/vnd.jupyter.widget-view+json": {
       "model_id": "6931da97680049dc9049cbbb30a8c2ce",
       "version_major": 2,
       "version_minor": 0
      },
      "text/plain": [
       "Downloading:   0%|          | 0.00/10.6k [00:00<?, ?B/s]"
      ]
     },
     "metadata": {},
     "output_type": "display_data"
    },
    {
     "data": {
      "application/vnd.jupyter.widget-view+json": {
       "model_id": "2cb3f9e6335c4d7ab67f0ec470c2eb38",
       "version_major": 2,
       "version_minor": 0
      },
      "text/plain": [
       "Downloading:   0%|          | 0.00/612 [00:00<?, ?B/s]"
      ]
     },
     "metadata": {},
     "output_type": "display_data"
    },
    {
     "data": {
      "application/vnd.jupyter.widget-view+json": {
       "model_id": "a22a04df71a94600a15e9accb49090a6",
       "version_major": 2,
       "version_minor": 0
      },
      "text/plain": [
       "Downloading:   0%|          | 0.00/116 [00:00<?, ?B/s]"
      ]
     },
     "metadata": {},
     "output_type": "display_data"
    },
    {
     "data": {
      "application/vnd.jupyter.widget-view+json": {
       "model_id": "e59a37dff2874a87b0823e14f11fc0ed",
       "version_major": 2,
       "version_minor": 0
      },
      "text/plain": [
       "Downloading:   0%|          | 0.00/39.3k [00:00<?, ?B/s]"
      ]
     },
     "metadata": {},
     "output_type": "display_data"
    },
    {
     "data": {
      "application/vnd.jupyter.widget-view+json": {
       "model_id": "a270ac6196ec47bda9f16e1db67fa867",
       "version_major": 2,
       "version_minor": 0
      },
      "text/plain": [
       "Downloading:   0%|          | 0.00/90.9M [00:00<?, ?B/s]"
      ]
     },
     "metadata": {},
     "output_type": "display_data"
    },
    {
     "data": {
      "application/vnd.jupyter.widget-view+json": {
       "model_id": "77394bb477a443f4821fc570284ccdd4",
       "version_major": 2,
       "version_minor": 0
      },
      "text/plain": [
       "Downloading:   0%|          | 0.00/53.0 [00:00<?, ?B/s]"
      ]
     },
     "metadata": {},
     "output_type": "display_data"
    },
    {
     "data": {
      "application/vnd.jupyter.widget-view+json": {
       "model_id": "c14d9aa11c5e499ea5a4b6cfb7c3f4c0",
       "version_major": 2,
       "version_minor": 0
      },
      "text/plain": [
       "Downloading:   0%|          | 0.00/112 [00:00<?, ?B/s]"
      ]
     },
     "metadata": {},
     "output_type": "display_data"
    },
    {
     "data": {
      "application/vnd.jupyter.widget-view+json": {
       "model_id": "c51f02dfbb3f444fbd7821ff81c478b9",
       "version_major": 2,
       "version_minor": 0
      },
      "text/plain": [
       "Downloading:   0%|          | 0.00/466k [00:00<?, ?B/s]"
      ]
     },
     "metadata": {},
     "output_type": "display_data"
    },
    {
     "data": {
      "application/vnd.jupyter.widget-view+json": {
       "model_id": "d308b8bd606f4134b58c10ca7c35b19d",
       "version_major": 2,
       "version_minor": 0
      },
      "text/plain": [
       "Downloading:   0%|          | 0.00/350 [00:00<?, ?B/s]"
      ]
     },
     "metadata": {},
     "output_type": "display_data"
    },
    {
     "data": {
      "application/vnd.jupyter.widget-view+json": {
       "model_id": "c54c0b1873174ed89bacd62738af9a54",
       "version_major": 2,
       "version_minor": 0
      },
      "text/plain": [
       "Downloading:   0%|          | 0.00/13.2k [00:00<?, ?B/s]"
      ]
     },
     "metadata": {},
     "output_type": "display_data"
    },
    {
     "data": {
      "application/vnd.jupyter.widget-view+json": {
       "model_id": "7ed4aefb0d0c48c8aeb9d1b6fdd18897",
       "version_major": 2,
       "version_minor": 0
      },
      "text/plain": [
       "Downloading:   0%|          | 0.00/232k [00:00<?, ?B/s]"
      ]
     },
     "metadata": {},
     "output_type": "display_data"
    },
    {
     "data": {
      "application/vnd.jupyter.widget-view+json": {
       "model_id": "0544d32e307848409093348328438af7",
       "version_major": 2,
       "version_minor": 0
      },
      "text/plain": [
       "Downloading:   0%|          | 0.00/349 [00:00<?, ?B/s]"
      ]
     },
     "metadata": {},
     "output_type": "display_data"
    }
   ],
   "source": [
    "model_ckpt = \"deepset/minilm-uncased-squad2\"\n",
    "tokenizer = AutoTokenizer.from_pretrained(model_ckpt)\n",
    "model = AutoModelForQuestionAnswering.from_pretrained(model_ckpt)\n",
    "modelST = SentenceTransformer('sentence-transformers/all-MiniLM-L6-v2')"
   ]
  },
  {
   "cell_type": "code",
   "execution_count": 8,
   "id": "3956953d-4a42-487d-8389-8a50dcd1d044",
   "metadata": {},
   "outputs": [],
   "source": [
    "#input - video link, output - full transcript\n",
    "def get_transcript(link):\n",
    "  print(\"******** Inside get_transcript ********\")\n",
    "  print(f\"link to be extracted is : {link}\")\n",
    "  video_id = link.split(\"=\")[1]\n",
    "  # Handle additional query parameters such as timestamp, ...\n",
    "  video_id = video_id.split(\"&\")[0]\n",
    "  print(f\"video id extracted is : {video_id}\")\n",
    "  transcript = YouTubeTranscriptApi.get_transcript(video_id)\n",
    "  FinalTranscript = ' '.join([i['text'] for i in transcript])\n",
    "  return FinalTranscript,transcript, video_id\n",
    "  "
   ]
  },
  {
   "cell_type": "code",
   "execution_count": 16,
   "id": "720be13c-cbb4-4a72-90e3-48cb450904b5",
   "metadata": {},
   "outputs": [],
   "source": [
    "link=\"https://www.youtube.com/watch?v=jwtT2gC6nwE\""
   ]
  },
  {
   "cell_type": "code",
   "execution_count": 17,
   "id": "dba606e6-1acb-4f1d-bae3-7b5f2ef31beb",
   "metadata": {},
   "outputs": [
    {
     "name": "stdout",
     "output_type": "stream",
     "text": [
      "******** Inside get_transcript ********\n",
      "link to be extracted is : https://www.youtube.com/watch?v=jwtT2gC6nwE\n",
      "video id extracted is : jwtT2gC6nwE\n"
     ]
    }
   ],
   "source": [
    "FinalTranscript,transcript, video_id=get_transcript(link)"
   ]
  },
  {
   "cell_type": "code",
   "execution_count": 19,
   "id": "cbd68461-2973-40f6-8a0f-563a612622eb",
   "metadata": {},
   "outputs": [],
   "source": [
    "context = FinalTranscriptb\n"
   ]
  },
  {
   "cell_type": "code",
   "execution_count": 40,
   "id": "1cc2d4bd-f48b-463c-92a2-ae0d6f65b94b",
   "metadata": {},
   "outputs": [
    {
     "data": {
      "text/plain": [
       "17.91796875"
      ]
     },
     "execution_count": 40,
     "metadata": {},
     "output_type": "execute_result"
    }
   ],
   "source": [
    "len(context)/512"
   ]
  },
  {
   "cell_type": "code",
   "execution_count": 20,
   "id": "bdf1a01e-d852-445e-b08d-1093dcba87c2",
   "metadata": {},
   "outputs": [],
   "source": [
    "question=\"why ae you emotional\""
   ]
  },
  {
   "cell_type": "code",
   "execution_count": 21,
   "id": "7e20c001-5a5d-43f0-a08f-7798867dc6bc",
   "metadata": {},
   "outputs": [
    {
     "name": "stderr",
     "output_type": "stream",
     "text": [
      "Truncation was not explicitly activated but `max_length` is provided a specific value, please use `truncation=True` to explicitly truncate examples to max length. Defaulting to 'longest_first' truncation strategy. If you encode pairs of sequences (GLUE-style) with the tokenizer you can select this strategy more precisely by providing a specific strategy to `truncation`.\n"
     ]
    }
   ],
   "source": [
    "inputs = tokenizer(question, context, return_overflowing_tokens=True, max_length=512, stride = 25)"
   ]
  },
  {
   "cell_type": "code",
   "execution_count": 26,
   "id": "15d1c879-0f66-4eae-b1cd-4fe2ac8fba51",
   "metadata": {},
   "outputs": [
    {
     "data": {
      "text/plain": [
       "dict_keys(['input_ids', 'token_type_ids', 'attention_mask', 'overflow_to_sample_mapping'])"
      ]
     },
     "execution_count": 26,
     "metadata": {},
     "output_type": "execute_result"
    }
   ],
   "source": [
    "inputs.keys()"
   ]
  },
  {
   "cell_type": "code",
   "execution_count": 43,
   "id": "107bd83a-af6e-423b-8e78-2093926316b6",
   "metadata": {},
   "outputs": [
    {
     "data": {
      "text/plain": [
       "512"
      ]
     },
     "execution_count": 43,
     "metadata": {},
     "output_type": "execute_result"
    }
   ],
   "source": [
    "len(inputs[\"input_ids\"][1])"
   ]
  },
  {
   "cell_type": "code",
   "execution_count": 34,
   "id": "3b193cd8-b835-4354-83d0-dd0b4ea75e46",
   "metadata": {},
   "outputs": [
    {
     "name": "stdout",
     "output_type": "stream",
     "text": [
      "[CLS] why ae you emotional [SEP] welcome back to another video and it's a special one because i'm going for pr today 3 15 is going up on the bench today that's all i gotta say so if you're hyped subscribe the channel give the video a like because it's happening why are you laughing emotional damn it do you think i'm strong because isn't your max like 275 but it's been a while 275 is my max if you can bench 315 i have to do something for you my turn [ _ _ ] we're talking about something uh oh whoa [ music ] but if you get 315 that i don't want to hear oh i got two notches if i get 315 you get the next three dinner dates you don't get it i come home with a nice surprise for me okay i know what you like you come home with a nice surprise you don't come home at all someone make pre - workout meal let me show you guys what i'm gonna make some chicken i'm gonna have rice nut butter on it we're trying to go i'm gonna peanut peanut i'm an almond [ _ _ ] you and then i'm gonna have my pre - workout my wrecked i'm gonna put on my huge stuffed shirt and also real quick if you're wondering you're gonna drop this one live yesterday or today i don't know if it's gonna be put up link down below 15 off this is one of the hoodies the beanie beanies are [ _ _ ] crazy and then we have a bunch of nice like just cozy stuff this is literally you can fit your entire life in this backpack i'm not joking laptop holds in the back all these [ _ _ ] different pockets backpack just dropped give that and um yeah i'm gonna make this and i'll see you guys at the gym i'm gonna i'm gonna warm up i'm gonna have my actually i'll show you my secret in the car let me see in the car in the car on the way to the gym got my little secret two rice krispie treats baby my right to my pumps here i'm in here i'm actually i'm not gonna lie i'm hoping 3 15. don't be honest that would be the greatest moment of my life i'm thinking at least 285 over the mountain people there it's gonna push me to get the weight up because i want to flex [SEP] \n",
      "\n",
      "[CLS] why ae you emotional [SEP] thinking at least 285 over the mountain people there it's gonna push me to get the weight up because i want to flex for everyone i'm gonna [ _ _ ] flex everyone that's what i do i like uh i like eyes on me if i'm be honest it's only a movie star one day i'm giving a little update i know i've been only been posting like you know once a week now because i've been doing so much like i've been shooting so much for like my youtube shorts and like my uh my tick tocks and everything taking that route um really serious and just also been filming a bunch of long - form skits that are coming soon um and also just been um working on getting a new manager for acting so i've been um you know meeting with managers and doing monologues on zoom meetings all that stuff um so i know i've only been doing one a week here but life update that's just happening i'm trying to take my [ _ _ ] acting career to a next level trying to book something gotten some good news here and there but just know i'm working and i'm [ _ _ ] i'm not gonna stop until i'm one of the biggest entertainers in the world i probably believe that and i firmly believe guys that it's your world i mean this when i say that it is your world you [ _ _ ] control it you control the outcome um you can do whatever the [ _ _ ] it is you want in this world and i firmly believe that so don't let don't listen to anyone telling you otherwise um cut out all the negative people in your [ _ _ ] life and just be a [ _ _ ] animal and yeah it's been um that was a little motivation for you guys but i was thinking about being animal see the gym another [ _ _ ] animal and i pr my one rep maximum bench see you there all right we made it to the gym the absolutely worst time to come to a gym can you just see behind me did it look as bad on camera as it is in person no yeah i don't think you can tell that i think they must be over a capacity limit here it has at least 200 people here at least 200. anyways we've been here for about 10 minutes waiting for a bench there's three benches here with 200 people math doesn't add up but if you don't think [SEP] \n",
      "\n",
      "[CLS] why ae you emotional [SEP] for a bench there's three benches here with 200 people math doesn't add up but if you don't think i'm eyeing at like a hawk i'm buying like a hawk but in the meantime i guess i'm just gonna warm my back up a little bit get the lats going all right and then yeah you have your wrist wraps okay i'm using all the tricks in the book today camera rice crispy treats i got my preemie and now i'm gonna use the bench foreign [ music ] once you get to 185 you'll be able to tell how's the feeling so far you go wide really wide you're not scared to like take your chest no it just takes out the triceps [ applause ] now that i'm thinking about it i haven't flat bench i think since that last video i'm not joking i just never a flat bench anymore foreign [ music ] time to wrap it up that's what she said usually i talk so much [ _ _ ] he's on the straps wraps everything under the sun but uh i'm using today it was pretty good 2 45. this is the most i hit last time yeah oh easy you can easily that's what your max's last time it's not faster but you know now you hate it okay we'll see all right now right all right here it is come on go go oh yeah there we go thank you you'll be all right damn i was worried he was in uh he didn't touch it and then i hope you know if you touch the slide it doesn't take away from you i need your headphones all right i think this is how it lasts to be all right yeah two three okay i got it oh yeah it's easy easy thank you i'm filming i need like two minutes though i hope you know if you didn't think the music stopped now listen to nothing as soon as i won this exactly happened i'm always thinking i had to jump to 300. yeah that's a big jump i go 285. well i'll go up 10. oh if you need to get more than me yeah here we go you already hit it all time pr but now now you're fighting against me foreign [ music ] [ music ] [ music ] for me is like what six reps yeah five reps maybe but yeah we'll do an incline montage dress the workouts felt good um [SEP] \n",
      "\n",
      "[CLS] why ae you emotional [SEP] six reps yeah five reps maybe but yeah we'll do an incline montage dress the workouts felt good um shout out to the spider because he was actually uh he's a man and um yeah crispy yard ipr good job you still own uh irwin and i owe her something when i get home because technically i didn't hit 300. but i think i knew for a fact i wasn't gonna hit 315. that would be an all - time pr body weight was like 160 right now 285 i'll take it but yeah um enjoy the rest of the montage [ music ] [ applause ] [ music ] [ applause ] thank you all right so i'm back from the gym and i have uh noah's little gift tool i got something nice right because one i know she hasn't eaten two i didn't get a 315 or 300 whatever she said so i got her dinner i got her yogi's chicken teriyaki she loves chicken teriyaki and then if that's not enough i got a little crumble cookie yeah i'm not i'm gonna be honest i'm happy at 285. i'm only weighing like 160 right now so i think that's pretty strong that's like i said though the longer you've been working out for like you don't take any any improvements you can get yeah and especially coming from like competing a couple months ago i was so weak so getting back into 285 while getting to 285 of them it's a good feeling so let's get inside are you waiting for me do you know i hit a new pr are you happy had an epr but i do owe you i always do something nice so i got you dinner can you guess what is a pretty look yogis did you hear me outside no oh yeah it's yogis how'd you know i just saw it oh did you oh damn well and also if that was enough i got you crumble guess the flavor no hey first of all the ones we saw online weren't the ones that were this week's but i know you love this one it's your favorite one yeah it is in fact the semi chocolate chip one yeah yeah this is it guys this is the best one they have are you impressed at 285 though can you admit that only weighing 160. it's kind of impressive you don't weigh 160 i thought oh no yeah i don't know i'll be a big [SEP] \n",
      "\n",
      "[CLS] why ae you emotional [SEP] kind of impressive you don't weigh 160 i thought oh no yeah i don't know i'll be a big beefcake right now that's the goal i want to get you for my boat and you know i was gonna let you down i wasn't gonna let chris beat me chris for watching this i don't care how big your boat is your bench is never gonna be strong with me but he got 275 30 pounds yeah i got two wins today though did you three air one and free food oh wait who got you oh yeah you did yeah because chris owes her air on now and i got her some chicken teriyaki and a cookie so she had a good day i hope you guys enjoyed the video and like i said before i know i've been only posting that once a week but that's because i've been shooting so much more other content doing lots of stuff be honesty and trying to get my acting career and trying to you know book something for that and also just taking my skits a lot more serious um up in the quality of nap mark um noel lexi chris doing that because i'm trying to take youtube shorts over and yeah i go to vegas tomorrow so we're gonna have some vegas videos for you guys i can't wait i get to see devin and his brothers because he's competing in the amateur olympia and it's gonna be so crazy because i afterwards i just know how devin and her brother like it's so [ _ _ ] crazy so it's gonna be a fun time um i cannot wait so if you guys enjoy the video give the video a like subscribe to the channel if you have not already and i'll see you guys in the next one see you in vegas [ music ] foreign [ music ] [SEP] \n",
      "\n"
     ]
    }
   ],
   "source": [
    "contx=[]\n",
    "for window in inputs[\"input_ids\"]:\n",
    "  print(f\"{tokenizer.decode(window)} \\n\")\n",
    "  contx.append(tokenizer.decode(window).split('[SEP]')[1].strip())"
   ]
  },
  {
   "cell_type": "code",
   "execution_count": 45,
   "id": "ead34f40-199c-433b-8842-04ff2be7daec",
   "metadata": {},
   "outputs": [
    {
     "name": "stdout",
     "output_type": "stream",
     "text": [
      "5\n"
     ]
    },
    {
     "data": {
      "text/plain": [
       "\"welcome back to another video and it's a special one because i'm going for pr today 3 15 is going up on the bench today that's all i gotta say so if you're hyped subscribe the channel give the video a like because it's happening why are you laughing emotional damn it do you think i'm strong because isn't your max like 275 but it's been a while 275 is my max if you can bench 315 i have to do something for you my turn [ _ _ ] we're talking about something uh oh whoa [ music ] but if you get 315 that i don't want to hear oh i got two notches if i get 315 you get the next three dinner dates you don't get it i come home with a nice surprise for me okay i know what you like you come home with a nice surprise you don't come home at all someone make pre - workout meal let me show you guys what i'm gonna make some chicken i'm gonna have rice nut butter on it we're trying to go i'm gonna peanut peanut i'm an almond [ _ _ ] you and then i'm gonna have my pre - workout my wrecked i'm gonna put on my huge stuffed shirt and also real quick if you're wondering you're gonna drop this one live yesterday or today i don't know if it's gonna be put up link down below 15 off this is one of the hoodies the beanie beanies are [ _ _ ] crazy and then we have a bunch of nice like just cozy stuff this is literally you can fit your entire life in this backpack i'm not joking laptop holds in the back all these [ _ _ ] different pockets backpack just dropped give that and um yeah i'm gonna make this and i'll see you guys at the gym i'm gonna i'm gonna warm up i'm gonna have my actually i'll show you my secret in the car let me see in the car in the car on the way to the gym got my little secret two rice krispie treats baby my right to my pumps here i'm in here i'm actually i'm not gonna lie i'm hoping 3 15. don't be honest that would be the greatest moment of my life i'm thinking at least 285 over the mountain people there it's gonna push me to get the weight up because i want to flex\""
      ]
     },
     "execution_count": 45,
     "metadata": {},
     "output_type": "execute_result"
    }
   ],
   "source": [
    "print(len(contx))\n",
    "contx[0]"
   ]
  },
  {
   "cell_type": "code",
   "execution_count": 47,
   "id": "27cd634a-b626-45ff-9f0c-3a28fda68ded",
   "metadata": {},
   "outputs": [],
   "source": [
    "lst=[]\n",
    "pipe = pipeline(\"question-answering\", model=model, tokenizer=tokenizer)\n",
    "for contexts in contx:\n",
    " lst.append(pipe(question=question, context=contexts))"
   ]
  },
  {
   "cell_type": "code",
   "execution_count": 48,
   "id": "66b49166-d000-44d7-b878-22718d9531f2",
   "metadata": {},
   "outputs": [
    {
     "data": {
      "text/plain": [
       "[{'score': 0.2593109905719757,\n",
       "  'start': 229,\n",
       "  'end': 249,\n",
       "  'answer': 'why are you laughing'},\n",
       " {'score': 0.07616408169269562,\n",
       "  'start': 1494,\n",
       "  'end': 1548,\n",
       "  'answer': \"it's been um that was a little motivation for you guys\"},\n",
       " {'score': 0.0038624373264610767,\n",
       "  'start': 1455,\n",
       "  'end': 1466,\n",
       "  'answer': \"i'm filming\"},\n",
       " {'score': 0.1495342254638672,\n",
       "  'start': 524,\n",
       "  'end': 543,\n",
       "  'answer': 'thank you all right'},\n",
       " {'score': 0.003978503402322531,\n",
       "  'start': 567,\n",
       "  'end': 598,\n",
       "  'answer': 'hope you guys enjoyed the video'}]"
      ]
     },
     "execution_count": 48,
     "metadata": {},
     "output_type": "execute_result"
    }
   ],
   "source": [
    "lst"
   ]
  },
  {
   "cell_type": "code",
   "execution_count": 49,
   "id": "a3956a31-0833-424a-a466-ac15918cf010",
   "metadata": {},
   "outputs": [],
   "source": [
    "#input - question and transcript, output - answer timestamp\n",
    "def get_answers_timestamp(question, final_transcript, transcript):\n",
    "  print(\"******** Inside get_answers_timestamp ********\")\n",
    "\n",
    "  context = final_transcript\n",
    "  print(f\"Input Question is : {question}\")\n",
    "  print(f\"Type of trancript is : {type(context)}, Length of transcript is : {len(context)}\")\n",
    "  inputs = tokenizer(question, context, return_overflowing_tokens=True, max_length=512, stride = 25)\n",
    "\n",
    "  #getting a list of contexts available after striding\n",
    "  contx=[]\n",
    "  for window in inputs[\"input_ids\"]:\n",
    "      #print(f\"{tokenizer.decode(window)} \\n\")\n",
    "      contx.append(tokenizer.decode(window).split('[SEP]')[1].strip())\n",
    "  #print(ques)\n",
    "  #print(contx)\n",
    "\n",
    "  lst=[]\n",
    "  pipe = pipeline(\"question-answering\", model=model, tokenizer=tokenizer)\n",
    "  for contexts in contx:\n",
    "    lst.append(pipe(question=question, context=contexts))\n",
    "  \n",
    "  print(f\"contx list is : {contx}\")\n",
    "  lst_scores = [dicts['score'] for dicts in lst] \n",
    "  print(f\"lst_scores is : {lst_scores}\")\n",
    "  #getting highest and second highest scores\n",
    "  idxmax = lst_scores.index(max(lst_scores))\n",
    "  lst_scores.remove(max(lst_scores))\n",
    "  idxmax2 = lst_scores.index(max(lst_scores))\n",
    "  \n",
    "  sentence_for_timestamp = lst[idxmax]['answer']\n",
    "  sentence_for_timestamp_secondbest = lst[idxmax2]['answer']\n",
    "  \n",
    "  dftranscript = pd.DataFrame(transcript)\n",
    "\n",
    "  embedding_1= modelST.encode(dftranscript.text, convert_to_tensor=True)\n",
    "  embedding_2 = modelST.encode(sentence_for_timestamp, convert_to_tensor=True)\n",
    "  embedding_3 = modelST.encode(sentence_for_timestamp_secondbest, convert_to_tensor=True)\n",
    "  \n",
    "  similarity_tensor = util.pytorch_cos_sim(embedding_1, embedding_2)\n",
    "  idx = torch.argmax(similarity_tensor)\n",
    "  start_timestamp = dftranscript.iloc[[int(idx)-3]].start.values[0]\n",
    "  start_timestamp = round(start_timestamp)\n",
    "\n",
    "  similarity_tensor_secondbest = util.pytorch_cos_sim(embedding_1, embedding_3)\n",
    "  idx_secondbest = torch.argmax(similarity_tensor_secondbest)\n",
    "  start_timestamp_secondbest = dftranscript.iloc[[int(idx_secondbest)-3]].start.values[0]\n",
    "  start_timestamp_secondbest = round(start_timestamp_secondbest)\n",
    "\n",
    "  return start_timestamp, start_timestamp_secondbest\n",
    "   "
   ]
  },
  {
   "cell_type": "code",
   "execution_count": 50,
   "id": "c5027b33-84ff-40d7-a608-8d48999c679c",
   "metadata": {},
   "outputs": [],
   "source": [
    "    \n",
    "def display_vid(url, question, sample_question=None, example_video=None):\n",
    "  print(\"******** display_vid ********\")\n",
    "  if question == '':\n",
    "    question = sample_question\n",
    "  \n",
    "  #get embedding and youtube link for initial video\n",
    "  html_in = \"<iframe width='560' height='315' src=\" + url + \" frameborder='0' allowfullscreen></iframe>\"\n",
    "  #print(html)\n",
    "  \n",
    "  if len(example_video) !=0 : #is not None:\n",
    "    print(f\"example_video is  : {example_video}\")\n",
    "    url = example_video[0]\n",
    "  #get transcript\n",
    "  final_transcript, transcript, video_id = get_transcript(url)\n",
    "  \n",
    "  #get answer timestamp\n",
    "  #input - question and transcript, output - answer timestamp\n",
    "  ans_timestamp, ans_timestamp_secondbest = get_answers_timestamp(question, final_transcript, transcript)\n",
    "  \n",
    "  #created embedding  width='560' height='315' \n",
    "  html_out = \"<iframe width='730' height='400' src='https://www.youtube.com/embed/\" + video_id + \"?start=\" + str(ans_timestamp) + \"' title='YouTube video player' frameborder='0' allow='accelerometer; autoplay; clipboard-write; encrypted-media; gyroscope; picture-in-picture' allowfullscreen></iframe>\"\n",
    "  print(f\"html output is : {html_out}\")\n",
    "  html_out_secondbest = \"<iframe width='730' height='400' src='https://www.youtube.com/embed/\" + video_id + \"?start=\" + str(ans_timestamp_secondbest) + \"' title='YouTube video player' frameborder='0' allow='accelerometer; autoplay; clipboard-write; encrypted-media; gyroscope; picture-in-picture' allowfullscreen></iframe>\"\n",
    "  \n",
    "  if question == '':\n",
    "    print(f\"Inside display_vid(), Sample_Question coming from Radio box is BEFORE : {sample_question}\")\n",
    "    sample_ques = set_example_question(sample_question)\n",
    "    print(f\"Inside display_vid(), Sample Question coming from Radio box is AFTER : {sample_ques}\")\n",
    "  else:\n",
    "    sample_ques = question\n",
    "  return html_out, html_out_secondbest, sample_ques, url"
   ]
  },
  {
   "cell_type": "code",
   "execution_count": 51,
   "id": "533d4a30-0e06-4e68-8302-349080059f5f",
   "metadata": {},
   "outputs": [],
   "source": [
    "def set_example_question(sample_question):\n",
    "    print(f\"******* Inside Sample Questions ********\")\n",
    "    print(f\"Sample Question coming from Radio box is : {sample_question}\")\n",
    "    print(\"What is the Return value : {gr.Radio.update(value=sample_question)}\")\n",
    "    return gr.Radio.update(value=sample_question) #input_ques.update(example)\n",
    "\n",
    "demo = gr.Blocks()"
   ]
  },
  {
   "cell_type": "code",
   "execution_count": null,
   "id": "529813d2-b4a0-4550-b282-a12c54cd61ce",
   "metadata": {},
   "outputs": [
    {
     "name": "stdout",
     "output_type": "stream",
     "text": [
      "Running on local URL:  http://127.0.0.1:7860\n",
      "\n",
      "To create a public link, set `share=True` in `launch()`.\n"
     ]
    },
    {
     "data": {
      "text/html": [
       "<div><iframe src=\"http://127.0.0.1:7860/\" width=\"100%\" height=\"500\" allow=\"autoplay; camera; microphone; clipboard-read; clipboard-write;\" frameborder=\"0\" allowfullscreen></iframe></div>"
      ],
      "text/plain": [
       "<IPython.core.display.HTML object>"
      ]
     },
     "metadata": {},
     "output_type": "display_data"
    }
   ],
   "source": [
    "with demo:\n",
    "  gr.Markdown(\"<h1><center>Have you ever watched a lengthy video or podcast on YouTube and thought it would have been so much better if there had been 'explanatory' timestamps?</center></h1>\")\n",
    "  gr.Markdown(\n",
    "        \"\"\"### How many times have you seen a long video/podcast on Youtube and wondered only if there would have been 'explanatory' timestamps it would have been so much better..\n",
    "            \n",
    "        **Best part:** You don't even have to move away from the Space tab in your browser as the YouTube video gets played within the given View.\n",
    "        \"\"\"\n",
    "    )\n",
    "  with gr.Row():\n",
    "    input_url = gr.Textbox(label=\"Input a Youtube video link\") \n",
    "    input_ques = gr.Textbox(label=\"Ask a Question\")\n",
    "\n",
    "  with gr.Row():\n",
    "    output_vid = gr.HTML(label=\"Video from timestamp 1\", show_label=True)\n",
    "    output_vid_secondbest = gr.HTML(label=\"Video from timestamp 2\", show_label=True)\n",
    "    \n",
    "  with gr.Row():\n",
    "    example_question = gr.Dropdown(\n",
    "                    [\"Choose a sample question\", \"Does video talk about different modalities\", \n",
    "                    \"does the model uses perceiver architecture?\",\n",
    "                    \"when does the video talk about locked image tuning or lit?\",\n",
    "                    \"comparison between gpt3 and jurassic?\",\n",
    "                    \"Has flamingo passed turing test yet?\",\n",
    "                    \"Any funny examples in video?\",\n",
    "                    \"is it possible to download the stylegan model?\",\n",
    "                    \"what was very cool?\",\n",
    "                    \"what is the cool library?\"], label= \"Choose a sample Question\", value=None)\n",
    "  with gr.Row():\n",
    "    example_video = gr.CheckboxGroup( [\"https://www.youtube.com/watch?v=smUHQndcmOY\"], label= \"Choose a sample YouTube video\") \n",
    "                                                                    \n",
    "  b1 = gr.Button(\"Publish Video\")\n",
    "  \n",
    "  b1.click(display_vid, inputs=[input_url, input_ques, example_question, example_video], outputs=[output_vid, output_vid_secondbest, input_ques, input_url])\n",
    "  \n",
    "  with gr.Row():\n",
    "    gr.Markdown('''\n",
    "    #### Model Credits\n",
    "    1. [Question Answering](https://huggingface.co/deepset/minilm-uncased-squad2)\n",
    "    1. [Sentence Transformer](https://huggingface.co/sentence-transformers/all-MiniLM-L6-v2)\n",
    "    ''')\n",
    "  \n",
    "  with gr.Row(): \n",
    "    gr.Markdown(\"![visitor badge](https://visitor-badge.glitch.me/badge?page_id=gradio-blocks_ask_questions_to_youtube_videos)\")\n",
    "\n",
    "demo.launch(enable_queue=True, debug=True)"
   ]
  },
  {
   "cell_type": "code",
   "execution_count": null,
   "id": "055dac57-2234-42b4-943a-3cf8d3762064",
   "metadata": {},
   "outputs": [],
   "source": []
  }
 ],
 "metadata": {
  "kernelspec": {
   "display_name": "Python 3 (ipykernel)",
   "language": "python",
   "name": "python3"
  },
  "language_info": {
   "codemirror_mode": {
    "name": "ipython",
    "version": 3
   },
   "file_extension": ".py",
   "mimetype": "text/x-python",
   "name": "python",
   "nbconvert_exporter": "python",
   "pygments_lexer": "ipython3",
   "version": "3.10.6"
  }
 },
 "nbformat": 4,
 "nbformat_minor": 5
}
